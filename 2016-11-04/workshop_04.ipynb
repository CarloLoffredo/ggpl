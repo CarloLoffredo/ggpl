{
 "cells": [
  {
   "cell_type": "markdown",
   "metadata": {},
   "source": [
    "# Workshop 4 - GGPL\n",
    "\n",
    "## Flat top roof builder\n",
    "\n",
    "Reference: http://www.v-aline.com/thumbnail/h/hip-roof-building-plans-3.jpeg\n",
    "\n",
    "![Riferimento](./hiproof_num.jpeg)\n",
    "\n",
    "\n",
    "\n",
    "#### Below: special case in which vertexes [5, 8] and [6, 7] overlap.\n",
    "![Riferimento2](./hiproof02.gif)\n"
   ]
  },
  {
   "cell_type": "code",
   "execution_count": null,
   "metadata": {
    "collapsed": true
   },
   "outputs": [],
   "source": []
  }
 ],
 "metadata": {
  "kernelspec": {
   "display_name": "Python 2",
   "language": "python",
   "name": "python2"
  },
  "language_info": {
   "codemirror_mode": {
    "name": "ipython",
    "version": 2
   },
   "file_extension": ".py",
   "mimetype": "text/x-python",
   "name": "python",
   "nbconvert_exporter": "python",
   "pygments_lexer": "ipython2",
   "version": "2.7.12"
  }
 },
 "nbformat": 4,
 "nbformat_minor": 1
}
