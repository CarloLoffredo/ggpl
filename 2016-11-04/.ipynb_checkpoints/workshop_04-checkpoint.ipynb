{
 "cells": [
  {
   "cell_type": "markdown",
   "metadata": {},
   "source": [
    "# Workshop 4 - GGPL\n",
    "\n",
    "## Flat top roof builder\n",
    "\n",
    "Reference: http://www.v-aline.com/thumbnail/h/hip-roof-building-plans-3.jpeg\n",
    "\n",
    "![Riferimento](./hiproof_num.jpeg)\n",
    "\n",
    "\n",
    "\n",
    "#### Below: special case in which vertexes [5, 8] and [6, 7] overlap.\n",
    "![Riferimento2](./hiproof02.gif)\n"
   ]
  },
  {
   "cell_type": "markdown",
   "metadata": {},
   "source": [
    "### List of variables used in function ggpl_flat_top_roof()\n",
    "\n",
    "- roof: the base roof structure\n",
    "- skel_roof: the skeleton_1 of roof\n",
    "- x: the x lenght of the perimeter\n",
    "- y: the y lenght of the perimeter\n",
    "- raftDist: the arbitrary distance between rafters\n",
    "- xRaftNum, yRaftNum: the number of rafters needed on x and y sides\n",
    "- rafter: the generic rafter built\n",
    "- frameRoof: the final frame got using OFFSET() function"
   ]
  },
  {
   "cell_type": "markdown",
   "metadata": {},
   "source": [
    "## Example images\n",
    "\n",
    "### Roof of dimensions 12x9x3\n",
    "![Roof](./rooftoprender.png)"
   ]
  },
  {
   "cell_type": "markdown",
   "metadata": {},
   "source": [
    "## Workshop_04a.py (alternative version)\n",
    "\n",
    "In the python file workshop_04a.py there is an alternative version of the ggpl_flat_top_roof() function. This version does not build rafters, but concrete faces of the roof. As long as the input parameters are correct, the function builds correctly the roof.\n",
    "\n",
    "### Example image\n",
    "\n",
    "### Roof of dimensions 12x9x3\n",
    "![Roof](./roof01.png)\n",
    "\n",
    "### Another roof\n",
    "![Another](./roof02.png)\n"
   ]
  },
  {
   "cell_type": "code",
   "execution_count": null,
   "metadata": {
    "collapsed": true
   },
   "outputs": [],
   "source": []
  }
 ],
 "metadata": {
  "kernelspec": {
   "display_name": "Python 2",
   "language": "python",
   "name": "python2"
  },
  "language_info": {
   "codemirror_mode": {
    "name": "ipython",
    "version": 2
   },
   "file_extension": ".py",
   "mimetype": "text/x-python",
   "name": "python",
   "nbconvert_exporter": "python",
   "pygments_lexer": "ipython2",
   "version": "2.7.12"
  }
 },
 "nbformat": 4,
 "nbformat_minor": 1
}
