{
 "cells": [
  {
   "cell_type": "markdown",
   "metadata": {},
   "source": [
    "# Workshop 2 - GGPL\n",
    "\n",
    "### Struttura in cemento armato parametrica.\n",
    "\n",
    "Riferimento: http://jesussaravia.weebly.com/uploads/8/1/2/1/8121205/1520885.jpg?411\n",
    "\n",
    "![Riferimento](./frame.jpg)"
   ]
  },
  {
   "cell_type": "markdown",
   "metadata": {
    "collapsed": true
   },
   "source": [
    "### File list:\n",
    "1. workshop_02.py : contains Python code for the required functions\n",
    "2. frame_data_000000.csv : contains the csv data file. I do not have a student ID (yet)."
   ]
  },
  {
   "cell_type": "markdown",
   "metadata": {},
   "source": [
    "## Update: Friday 21 Oct, 11.30 AM\n",
    "\n",
    "Initially using the buggy and faulty workshop_01.py \"frame()\" function to generate the frames. It won't work, so I have to rewrite the frame-generating code. The parsing code works."
   ]
  },
  {
   "cell_type": "markdown",
   "metadata": {
    "collapsed": true
   },
   "source": [
    "## Update: Friday 21 Oct, 17 PM\n",
    "I completed the assignment producing a python function as requested. The csv data file emulates at its best the image reference shown above.\n",
    "\n",
    "I am aware of the essential misuse I did of the Jupyter Notebook; I tested my functions on the Ipython command shell without saving the history. Next time I will try to be more diligent and use the notebook as my testing platform.\n",
    "\n",
    "Briefly, here what the produced workshop_02.py source does:\n",
    "1. Opening the file and parsing its lines\n",
    "2. Arranging the parameters as a **list of lists of lists**\n",
    "3. Each list contains 4 lists: the displacement vector, the beam and pillars dimensions, the pillar axis distances and the interstory heights.\n",
    "4. The frames are built one by one using the frame() function and the related parameters.\n",
    "5. Then, the connecting pillars are built and placed.\n",
    "6. The structure built is shown."
   ]
  }
 ],
 "metadata": {
  "kernelspec": {
   "display_name": "Python 2",
   "language": "python",
   "name": "python2"
  },
  "language_info": {
   "codemirror_mode": {
    "name": "ipython",
    "version": 2
   },
   "file_extension": ".py",
   "mimetype": "text/x-python",
   "name": "python",
   "nbconvert_exporter": "python",
   "pygments_lexer": "ipython2",
   "version": "2.7.12"
  }
 },
 "nbformat": 4,
 "nbformat_minor": 1
}
