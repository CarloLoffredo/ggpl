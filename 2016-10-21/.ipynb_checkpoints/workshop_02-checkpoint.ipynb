{
 "cells": [
  {
   "cell_type": "markdown",
   "metadata": {},
   "source": [
    "# Workshop 2 - GGPL\n",
    "\n",
    "### Struttura in cemento armato parametrica.\n",
    "\n",
    "Riferimento: http://jesussaravia.weebly.com/uploads/8/1/2/1/8121205/1520885.jpg?411\n",
    "\n",
    "![Riferimento](./frame.jpg)"
   ]
  },
  {
   "cell_type": "markdown",
   "metadata": {
    "collapsed": true
   },
   "source": [
    "### File list:\n",
    "##### 1) workshop_02.py : contains Python code for the required function\n",
    "##### 2) frame_data_000000.csv : contains the csv data file (not having a student ID yet)"
   ]
  },
  {
   "cell_type": "markdown",
   "metadata": {},
   "source": [
    "Initially using the buggy and faulty workshop_01.py \"frame()\" function to generate the frames. It won't work, so I have to rewrite the frame-generating code. The parsing code works."
   ]
  }
 ],
 "metadata": {
  "kernelspec": {
   "display_name": "Python 2",
   "language": "python",
   "name": "python2"
  },
  "language_info": {
   "codemirror_mode": {
    "name": "ipython",
    "version": 2
   },
   "file_extension": ".py",
   "mimetype": "text/x-python",
   "name": "python",
   "nbconvert_exporter": "python",
   "pygments_lexer": "ipython2",
   "version": "2.7.12"
  }
 },
 "nbformat": 4,
 "nbformat_minor": 1
}
