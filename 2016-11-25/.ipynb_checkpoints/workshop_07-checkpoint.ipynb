{
 "cells": [
  {
   "cell_type": "markdown",
   "metadata": {},
   "source": [
    "# Workshop 07 - GGPL\n",
    "\n",
    "# Design of Doors and Windows"
   ]
  },
  {
   "cell_type": "markdown",
   "metadata": {},
   "source": [
    "### Reference window and door designs:\n",
    "\n",
    "Below there is the window reference.\n",
    "\n",
    "![Riferimento0](./door1.jpg)\n",
    "\n",
    "Below there are the door references. These are window doors, so we can think to use the same model of the stand-alone windows.\n",
    "\n",
    "![Riferimento1](./door0.jpg)\n",
    "![Riferimento2](./door2.jpg)"
   ]
  }
 ],
 "metadata": {
  "kernelspec": {
   "display_name": "Python 2",
   "language": "python",
   "name": "python2"
  },
  "language_info": {
   "codemirror_mode": {
    "name": "ipython",
    "version": 2
   },
   "file_extension": ".py",
   "mimetype": "text/x-python",
   "name": "python",
   "nbconvert_exporter": "python",
   "pygments_lexer": "ipython2",
   "version": "2.7.12"
  }
 },
 "nbformat": 4,
 "nbformat_minor": 1
}
