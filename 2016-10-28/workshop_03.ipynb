{
 "cells": [
  {
   "cell_type": "markdown",
   "metadata": {},
   "source": [
    "# Workshop 3 - GGPL\n",
    "\n",
    "### Scale: doppia rampa\n",
    "\n",
    "Riferimento: http://www.builderbill-diy-help.com/image-files/dogleg.gif\n",
    "\n",
    "![Riferimento](./dogleg.gif)"
   ]
  },
  {
   "cell_type": "markdown",
   "metadata": {},
   "source": [
    "#### Lista delle variabili usate nella funzione ggpl_doubleRunStair(dx, dy, dz)\n",
    "- dx, dy, dz: usate come da specifica"
   ]
  },
  {
   "cell_type": "code",
   "execution_count": 1,
   "metadata": {
    "collapsed": false
   },
   "outputs": [
    {
     "name": "stdout",
     "output_type": "stream",
     "text": [
      "Evaluating fenvs.py..\n",
      "...fenvs.py imported in 0.035906 seconds\n"
     ]
    }
   ],
   "source": [
    "from pyplasm import *"
   ]
  }
 ],
 "metadata": {
  "kernelspec": {
   "display_name": "Python 2",
   "language": "python",
   "name": "python2"
  },
  "language_info": {
   "codemirror_mode": {
    "name": "ipython",
    "version": 2
   },
   "file_extension": ".py",
   "mimetype": "text/x-python",
   "name": "python",
   "nbconvert_exporter": "python",
   "pygments_lexer": "ipython2",
   "version": "2.7.12"
  }
 },
 "nbformat": 4,
 "nbformat_minor": 1
}
