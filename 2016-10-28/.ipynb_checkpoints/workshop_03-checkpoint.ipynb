{
 "cells": [
  {
   "cell_type": "markdown",
   "metadata": {},
   "source": [
    "# Workshop 3 - GGPL\n",
    "\n",
    "### Scale: doppia rampa\n",
    "\n",
    "Riferimento: http://www.builderbill-diy-help.com/image-files/dogleg.gif\n",
    "\n",
    "![Riferimento](./dogleg.gif)"
   ]
  },
  {
   "cell_type": "markdown",
   "metadata": {},
   "source": [
    "#### Lista delle variabili usate nella funzione ggpl_doubleRunStair(dx, dy, dz)\n",
    "- dx, dy, dz: usate come da specifica\n",
    "- xPlatform,yPlatform,zPlatform,xRaiser ecc.: ottenute a partire dai parametri attuali, utilizzando come riferimento l'immagine di cui sopra; corrispondono alle dimensioni tridimensionali della piattaforma intermedia e degli scalini\n",
    "- suppWall: è il muro di supporto centrale che è stato aggiunto per reggere gli scalini\n",
    "- sceneSize: le dimensioni di tutta la scala ottenute tramite la funzione SIZE(); sono usate per scalare tutta la struttura precisamente alle dimensioni richieste.\n"
   ]
  },
  {
   "cell_type": "markdown",
   "metadata": {},
   "source": [
    "#### Calcolo delle dimensioni: euristiche utilizzate\n",
    "- In primo luogo si è calcolato la lunghezza della piattaforma intermedia. Il valore ideale è circa un terzo della lunghezza complessiva della scala, oppure 2 metri; si prende il minimo tra questi due valori.\n",
    "- La larghezza della piattaforma centrale corrisponde alla larghezza totale della scala.\n",
    "- L'altezza degli scalini è fissata a 18 centimetri; il numero degli scalini sarà quindi l'altezza totale degli scalini diviso 0.18 metri.\n",
    "- La lunghezza di ogni scalino dipende dal numero totale degli scalini."
   ]
  },
  {
   "cell_type": "markdown",
   "metadata": {},
   "source": [
    "## Immagini di casi di esempio\n",
    "\n",
    "### Parametri (2,2,2)\n",
    "![Riferimento](./scala222.png)\n",
    "\n",
    "### Parametri (4,3,4)\n",
    "![Riferimento](./scala434.png)"
   ]
  }
 ],
 "metadata": {
  "kernelspec": {
   "display_name": "Python 2",
   "language": "python",
   "name": "python2"
  },
  "language_info": {
   "codemirror_mode": {
    "name": "ipython",
    "version": 2
   },
   "file_extension": ".py",
   "mimetype": "text/x-python",
   "name": "python",
   "nbconvert_exporter": "python",
   "pygments_lexer": "ipython2",
   "version": "2.7.12"
  }
 },
 "nbformat": 4,
 "nbformat_minor": 1
}
